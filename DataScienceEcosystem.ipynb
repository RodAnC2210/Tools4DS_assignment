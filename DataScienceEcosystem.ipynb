{
 "cells": [
  {
   "cell_type": "markdown",
   "id": "65ce77e2",
   "metadata": {},
   "source": [
    "# Data Science Tools and Ecosystem"
   ]
  },
  {
   "cell_type": "markdown",
   "id": "8de6e1fa",
   "metadata": {},
   "source": [
    "In this notebook, Data Science Tools and Ecosystem are summarized"
   ]
  },
  {
   "cell_type": "markdown",
   "id": "38da7d4d",
   "metadata": {},
   "source": [
    "**OBJECTIVES:**\n",
    "- List popular languages for Data Science\n",
    "- List libraries for Data Science\n",
    "- Review of commonly used development enviromnents (IDE)\n",
    "- Calculation of simple arithmetic expressions"
   ]
  },
  {
   "cell_type": "markdown",
   "id": "d30e2cf8",
   "metadata": {},
   "source": [
    "Some of the popular languages thata Data Scientist use are:\n",
    "1. Python\n",
    "2. R\n",
    "3. SQL"
   ]
  },
  {
   "cell_type": "markdown",
   "id": "91f52ef1",
   "metadata": {},
   "source": [
    "Some of the commonly used libraries used by Data Scientists include:\n",
    "1. Pandas and Numpy\n",
    "2. Matplotlib\n",
    "3. Scikit-learn"
   ]
  },
  {
   "cell_type": "markdown",
   "id": "4218287c",
   "metadata": {},
   "source": [
    "| Data Science Tools |\n",
    "| ------------------ |\n",
    "| Jupyter Notebook |\n",
    "| R Studio |\n",
    "| Visual Studio |\n"
   ]
  },
  {
   "cell_type": "markdown",
   "id": "9366196a",
   "metadata": {},
   "source": [
    "### Below are a few examples of arithmetic expressions in Phyton"
   ]
  },
  {
   "cell_type": "code",
   "execution_count": 3,
   "id": "5c90e4b2",
   "metadata": {},
   "outputs": [
    {
     "data": {
      "text/plain": [
       "17"
      ]
     },
     "execution_count": 3,
     "metadata": {},
     "output_type": "execute_result"
    }
   ],
   "source": [
    "(3*4) + 5 #This is a simple arithmetic expression"
   ]
  },
  {
   "cell_type": "code",
   "execution_count": 4,
   "id": "99ea99f9",
   "metadata": {},
   "outputs": [
    {
     "data": {
      "text/plain": [
       "3.3333333333333335"
      ]
     },
     "execution_count": 4,
     "metadata": {},
     "output_type": "execute_result"
    }
   ],
   "source": [
    "200/60 #This will convert 200 minutes to hours "
   ]
  },
  {
   "cell_type": "markdown",
   "id": "99693031",
   "metadata": {},
   "source": [
    "## Author:\n",
    "Rodrigo A."
   ]
  },
  {
   "cell_type": "code",
   "execution_count": null,
   "id": "a7727651",
   "metadata": {},
   "outputs": [],
   "source": []
  }
 ],
 "metadata": {
  "kernelspec": {
   "display_name": "Python 3 (ipykernel)",
   "language": "python",
   "name": "python3"
  },
  "language_info": {
   "codemirror_mode": {
    "name": "ipython",
    "version": 3
   },
   "file_extension": ".py",
   "mimetype": "text/x-python",
   "name": "python",
   "nbconvert_exporter": "python",
   "pygments_lexer": "ipython3",
   "version": "3.9.16"
  }
 },
 "nbformat": 4,
 "nbformat_minor": 5
}
